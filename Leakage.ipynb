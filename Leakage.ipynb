{
 "cells": [
  {
   "cell_type": "markdown",
   "metadata": {},
   "source": [
    "## Data Leakage"
   ]
  },
  {
   "cell_type": "markdown",
   "metadata": {},
   "source": [
    "Sometimes a model might perform well on training data and also do well on testing data, but when deployed in prod it's performance might be worse. A reason why this might occur is due to data leakage\n",
    "\n",
    "Data leakage is where when splitting data to train and test, some info from test set is shared with train set and info from train set is shared to test set. The test data should always be in a way that the model has no idea about it.\n",
    "\n",
    "Example scenarios:\n",
    "- Missing Values: When computing the mean, info from the test set is also being used in the process. So in training, model gets info to some extent about test set\n",
    "- Time series: Train test split on random is useless here as one data depends on prev data in time. Best way is to set first 80% sequence as train and rest 20% sequence as test\n",
    "- Scaling is another place where data leakage happens. Coz we are using the entire dataset to do normalization\n",
    "\n",
    "Ways to avoid:\n",
    "- k-fold cross validation\n",
    "- always split data to train and test set first and then do the feature engineering steps respectively on each set so no info is shared from one set to the other\n",
    "\n",
    "Real world example:\n",
    "- Students preparing for exam from textbook(train data). if question paper(test data) is leaked to the student, he will do well in the test, but for other question paper(validation data) he will not perform well"
   ]
  },
  {
   "cell_type": "markdown",
   "metadata": {},
   "source": [
    "## Target Leakage"
   ]
  },
  {
   "cell_type": "markdown",
   "metadata": {},
   "source": [
    "Target leakage is a condition where we are using some info on the data set which will not be available at the time of prediction i.e., using data from the future to predict the past\n",
    "\n",
    "A classic example of target leakage is my use cases. When using customer account tenure as a feature from cust_acct, it has data from the future only as it's not a history table. So if i'm training on march 2021 and using cust_acct table, it will give acct tenure from the future, say august 2021 when in training i'm actually at march only. So this is a target leakage. While creating data set always be mindful to use data which will always be available to use at the instant of prediction. "
   ]
  },
  {
   "cell_type": "code",
   "execution_count": null,
   "metadata": {},
   "outputs": [],
   "source": []
  }
 ],
 "metadata": {
  "kernelspec": {
   "display_name": "Python 3 (ipykernel)",
   "language": "python",
   "name": "python3"
  },
  "language_info": {
   "codemirror_mode": {
    "name": "ipython",
    "version": 3
   },
   "file_extension": ".py",
   "mimetype": "text/x-python",
   "name": "python",
   "nbconvert_exporter": "python",
   "pygments_lexer": "ipython3",
   "version": "3.9.7"
  }
 },
 "nbformat": 4,
 "nbformat_minor": 2
}
