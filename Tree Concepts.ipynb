{
 "cells": [
  {
   "cell_type": "markdown",
   "metadata": {},
   "source": [
    "### Entropy\n",
    "\n",
    "<img src = 'Entropy.PNG'/>\n",
    "\n",
    "Entropy is used to determine the purity of a node. To see which feature to split on, use information gain"
   ]
  },
  {
   "cell_type": "markdown",
   "metadata": {},
   "source": [
    "### Information Gain\n",
    "\n",
    "<img src = 'Information_Gain.PNG'/>\n",
    "\n",
    "The gain of the entire tree is calculated and the algorithmn computes the gain in similar way for all of the different types of splits and will see which split is giving the most information gain and that split will be the tree used to train for the dataset by the model."
   ]
  },
  {
   "cell_type": "markdown",
   "metadata": {},
   "source": [
    "### Gini Impurity\n",
    "\n",
    "<img src = 'Gini_Impurity.PNG'/>\n",
    "\n",
    "Gini impurity is the same as entropy. Both calculate the purity of the node. But gini impurity is the method preferred in all algorithmns because it is computationally effective as entropy involves costly log calculation. In interviews, explain with the diagram for better chances!!"
   ]
  },
  {
   "cell_type": "code",
   "execution_count": null,
   "metadata": {},
   "outputs": [],
   "source": []
  }
 ],
 "metadata": {
  "kernelspec": {
   "display_name": "Python 3 (ipykernel)",
   "language": "python",
   "name": "python3"
  },
  "language_info": {
   "codemirror_mode": {
    "name": "ipython",
    "version": 3
   },
   "file_extension": ".py",
   "mimetype": "text/x-python",
   "name": "python",
   "nbconvert_exporter": "python",
   "pygments_lexer": "ipython3",
   "version": "3.9.7"
  }
 },
 "nbformat": 4,
 "nbformat_minor": 2
}
